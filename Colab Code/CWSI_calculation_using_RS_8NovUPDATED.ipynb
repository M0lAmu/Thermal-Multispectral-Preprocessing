{
  "nbformat": 4,
  "nbformat_minor": 0,
  "metadata": {
    "colab": {
      "provenance": []
    },
    "kernelspec": {
      "name": "python3",
      "display_name": "Python 3"
    },
    "language_info": {
      "name": "python"
    }
  },
  "cells": [
    {
      "cell_type": "markdown",
      "source": [
        "# **Load and Clean your Dataset**"
      ],
      "metadata": {
        "id": "8CBasXNPw61j"
      }
    },
    {
      "cell_type": "code",
      "execution_count": 1,
      "metadata": {
        "id": "aOnVjDbdwyzy",
        "colab": {
          "base_uri": "https://localhost:8080/",
          "height": 73
        },
        "outputId": "28658da8-5cf4-4ded-f9a8-1b103c2ed325"
      },
      "outputs": [
        {
          "output_type": "display_data",
          "data": {
            "text/plain": [
              "<IPython.core.display.HTML object>"
            ],
            "text/html": [
              "\n",
              "     <input type=\"file\" id=\"files-654e9883-0450-409e-bc75-211c8aa2d793\" name=\"files[]\" multiple disabled\n",
              "        style=\"border:none\" />\n",
              "     <output id=\"result-654e9883-0450-409e-bc75-211c8aa2d793\">\n",
              "      Upload widget is only available when the cell has been executed in the\n",
              "      current browser session. Please rerun this cell to enable.\n",
              "      </output>\n",
              "      <script>// Copyright 2017 Google LLC\n",
              "//\n",
              "// Licensed under the Apache License, Version 2.0 (the \"License\");\n",
              "// you may not use this file except in compliance with the License.\n",
              "// You may obtain a copy of the License at\n",
              "//\n",
              "//      http://www.apache.org/licenses/LICENSE-2.0\n",
              "//\n",
              "// Unless required by applicable law or agreed to in writing, software\n",
              "// distributed under the License is distributed on an \"AS IS\" BASIS,\n",
              "// WITHOUT WARRANTIES OR CONDITIONS OF ANY KIND, either express or implied.\n",
              "// See the License for the specific language governing permissions and\n",
              "// limitations under the License.\n",
              "\n",
              "/**\n",
              " * @fileoverview Helpers for google.colab Python module.\n",
              " */\n",
              "(function(scope) {\n",
              "function span(text, styleAttributes = {}) {\n",
              "  const element = document.createElement('span');\n",
              "  element.textContent = text;\n",
              "  for (const key of Object.keys(styleAttributes)) {\n",
              "    element.style[key] = styleAttributes[key];\n",
              "  }\n",
              "  return element;\n",
              "}\n",
              "\n",
              "// Max number of bytes which will be uploaded at a time.\n",
              "const MAX_PAYLOAD_SIZE = 100 * 1024;\n",
              "\n",
              "function _uploadFiles(inputId, outputId) {\n",
              "  const steps = uploadFilesStep(inputId, outputId);\n",
              "  const outputElement = document.getElementById(outputId);\n",
              "  // Cache steps on the outputElement to make it available for the next call\n",
              "  // to uploadFilesContinue from Python.\n",
              "  outputElement.steps = steps;\n",
              "\n",
              "  return _uploadFilesContinue(outputId);\n",
              "}\n",
              "\n",
              "// This is roughly an async generator (not supported in the browser yet),\n",
              "// where there are multiple asynchronous steps and the Python side is going\n",
              "// to poll for completion of each step.\n",
              "// This uses a Promise to block the python side on completion of each step,\n",
              "// then passes the result of the previous step as the input to the next step.\n",
              "function _uploadFilesContinue(outputId) {\n",
              "  const outputElement = document.getElementById(outputId);\n",
              "  const steps = outputElement.steps;\n",
              "\n",
              "  const next = steps.next(outputElement.lastPromiseValue);\n",
              "  return Promise.resolve(next.value.promise).then((value) => {\n",
              "    // Cache the last promise value to make it available to the next\n",
              "    // step of the generator.\n",
              "    outputElement.lastPromiseValue = value;\n",
              "    return next.value.response;\n",
              "  });\n",
              "}\n",
              "\n",
              "/**\n",
              " * Generator function which is called between each async step of the upload\n",
              " * process.\n",
              " * @param {string} inputId Element ID of the input file picker element.\n",
              " * @param {string} outputId Element ID of the output display.\n",
              " * @return {!Iterable<!Object>} Iterable of next steps.\n",
              " */\n",
              "function* uploadFilesStep(inputId, outputId) {\n",
              "  const inputElement = document.getElementById(inputId);\n",
              "  inputElement.disabled = false;\n",
              "\n",
              "  const outputElement = document.getElementById(outputId);\n",
              "  outputElement.innerHTML = '';\n",
              "\n",
              "  const pickedPromise = new Promise((resolve) => {\n",
              "    inputElement.addEventListener('change', (e) => {\n",
              "      resolve(e.target.files);\n",
              "    });\n",
              "  });\n",
              "\n",
              "  const cancel = document.createElement('button');\n",
              "  inputElement.parentElement.appendChild(cancel);\n",
              "  cancel.textContent = 'Cancel upload';\n",
              "  const cancelPromise = new Promise((resolve) => {\n",
              "    cancel.onclick = () => {\n",
              "      resolve(null);\n",
              "    };\n",
              "  });\n",
              "\n",
              "  // Wait for the user to pick the files.\n",
              "  const files = yield {\n",
              "    promise: Promise.race([pickedPromise, cancelPromise]),\n",
              "    response: {\n",
              "      action: 'starting',\n",
              "    }\n",
              "  };\n",
              "\n",
              "  cancel.remove();\n",
              "\n",
              "  // Disable the input element since further picks are not allowed.\n",
              "  inputElement.disabled = true;\n",
              "\n",
              "  if (!files) {\n",
              "    return {\n",
              "      response: {\n",
              "        action: 'complete',\n",
              "      }\n",
              "    };\n",
              "  }\n",
              "\n",
              "  for (const file of files) {\n",
              "    const li = document.createElement('li');\n",
              "    li.append(span(file.name, {fontWeight: 'bold'}));\n",
              "    li.append(span(\n",
              "        `(${file.type || 'n/a'}) - ${file.size} bytes, ` +\n",
              "        `last modified: ${\n",
              "            file.lastModifiedDate ? file.lastModifiedDate.toLocaleDateString() :\n",
              "                                    'n/a'} - `));\n",
              "    const percent = span('0% done');\n",
              "    li.appendChild(percent);\n",
              "\n",
              "    outputElement.appendChild(li);\n",
              "\n",
              "    const fileDataPromise = new Promise((resolve) => {\n",
              "      const reader = new FileReader();\n",
              "      reader.onload = (e) => {\n",
              "        resolve(e.target.result);\n",
              "      };\n",
              "      reader.readAsArrayBuffer(file);\n",
              "    });\n",
              "    // Wait for the data to be ready.\n",
              "    let fileData = yield {\n",
              "      promise: fileDataPromise,\n",
              "      response: {\n",
              "        action: 'continue',\n",
              "      }\n",
              "    };\n",
              "\n",
              "    // Use a chunked sending to avoid message size limits. See b/62115660.\n",
              "    let position = 0;\n",
              "    do {\n",
              "      const length = Math.min(fileData.byteLength - position, MAX_PAYLOAD_SIZE);\n",
              "      const chunk = new Uint8Array(fileData, position, length);\n",
              "      position += length;\n",
              "\n",
              "      const base64 = btoa(String.fromCharCode.apply(null, chunk));\n",
              "      yield {\n",
              "        response: {\n",
              "          action: 'append',\n",
              "          file: file.name,\n",
              "          data: base64,\n",
              "        },\n",
              "      };\n",
              "\n",
              "      let percentDone = fileData.byteLength === 0 ?\n",
              "          100 :\n",
              "          Math.round((position / fileData.byteLength) * 100);\n",
              "      percent.textContent = `${percentDone}% done`;\n",
              "\n",
              "    } while (position < fileData.byteLength);\n",
              "  }\n",
              "\n",
              "  // All done.\n",
              "  yield {\n",
              "    response: {\n",
              "      action: 'complete',\n",
              "    }\n",
              "  };\n",
              "}\n",
              "\n",
              "scope.google = scope.google || {};\n",
              "scope.google.colab = scope.google.colab || {};\n",
              "scope.google.colab._files = {\n",
              "  _uploadFiles,\n",
              "  _uploadFilesContinue,\n",
              "};\n",
              "})(self);\n",
              "</script> "
            ]
          },
          "metadata": {}
        },
        {
          "output_type": "stream",
          "name": "stdout",
          "text": [
            "Saving Hourly_data_forColab_1.xlsx to Hourly_data_forColab_1.xlsx\n"
          ]
        }
      ],
      "source": [
        "import pandas as pd\n",
        "import numpy as np\n",
        "from sklearn.linear_model import LinearRegression\n",
        "import matplotlib.pyplot as plt\n",
        "\n",
        "# Load your dataset containing info from the IRT, required for the well-watered conditions\n",
        "\n",
        "from google.colab import files\n",
        "uploaded = files.upload()\n",
        "\n",
        "# Assuming your data is in a CSV file named 'your_data.csv'\n",
        "df = pd.read_excel('Hourly_data_forColab_1.xlsx')"
      ]
    },
    {
      "cell_type": "code",
      "source": [
        "print(df)"
      ],
      "metadata": {
        "id": "x7W2H2rkxJMl",
        "colab": {
          "base_uri": "https://localhost:8080/"
        },
        "outputId": "7086794f-bb2e-4690-9e35-52c1f47e04ba"
      },
      "execution_count": 2,
      "outputs": [
        {
          "output_type": "stream",
          "name": "stdout",
          "text": [
            "                TIMESTAMP  Hour         Phen_Stage TT_C_2_Avg  Tb_in_K  \\\n",
            "0     2023-10-06 10:00:00    10  Flowering_Nut_Set      28.68   301.83   \n",
            "1     2023-10-06 11:00:00    11  Flowering_Nut_Set      37.64   310.79   \n",
            "2     2023-10-06 12:00:00    12  Flowering_Nut_Set      31.72   304.87   \n",
            "3     2023-10-06 13:00:00    13  Flowering_Nut_Set      33.02   306.17   \n",
            "4     2023-10-06 14:00:00    14  Flowering_Nut_Set      33.16   306.31   \n",
            "...                   ...   ...                ...        ...      ...   \n",
            "5347  2024-05-16 10:00:00    10   Shuck_Dehiscence      21.92   295.07   \n",
            "5348  2024-05-16 11:00:00    11   Shuck_Dehiscence      23.94   297.09   \n",
            "5349  2024-05-16 12:00:00    12   Shuck_Dehiscence      25.46   298.61   \n",
            "5350  2024-05-16 13:00:00    13   Shuck_Dehiscence      25.77   298.92   \n",
            "5351  2024-05-16 14:00:00    14   Shuck_Dehiscence      26.57   299.72   \n",
            "\n",
            "      Ts_corrected   Ts_in_°C  Average Air Temperature (°C)  \\\n",
            "0       303.358217  30.208217                      26.08076   \n",
            "1       312.363572  39.213572                      27.70603   \n",
            "2       306.413567  33.263567                      29.16127   \n",
            "3       307.720125  34.570125                      30.55263   \n",
            "4       307.860819  34.710819                      31.27149   \n",
            "...            ...        ...                           ...   \n",
            "5347    296.564033  23.414033                      21.31849   \n",
            "5348    298.594246  25.444246                      23.16628   \n",
            "5349    300.121928  26.971928                      24.63934   \n",
            "5350    300.433493  27.283493                      25.05293   \n",
            "5351    301.237539  28.087539                      25.55153   \n",
            "\n",
            "      Average Wind Speed (m/s)  Average RH (%)  Total Rainfall (mm)  \\\n",
            "0                     1.626597        23.38279                  0.0   \n",
            "1                     3.316973        19.55893                  0.0   \n",
            "2                     2.380682        20.14454                  0.0   \n",
            "3                     2.389570        18.40354                  0.0   \n",
            "4                     2.281875        16.36658                  0.0   \n",
            "...                        ...             ...                  ...   \n",
            "5347                  1.590527        35.13768                  0.0   \n",
            "5348                  1.612181        30.62375                  0.0   \n",
            "5349                  1.812820        24.88638                  0.0   \n",
            "5350                  3.084222        25.12379                  0.0   \n",
            "5351                  2.428473        23.14538                  0.0   \n",
            "\n",
            "      Average VPD (kPa)    Rs/Rso        Rn    Tc-Ta  \n",
            "0              2.531433  0.680263  2.160929  2.59924  \n",
            "1              2.900876  0.761780  2.501665      NaN  \n",
            "2              3.206956  0.835479  2.656308  2.55873  \n",
            "3              3.590071  0.918785  2.604723  2.46737  \n",
            "4              3.767012  1.008139  2.303601  1.88851  \n",
            "...                 ...       ...       ...      ...  \n",
            "5347           1.612450  0.487934  1.379544  0.60151  \n",
            "5348           1.912827  0.612339  1.719259  0.77372  \n",
            "5349           2.190072  0.742489  1.895047  0.82066  \n",
            "5350           2.393972  0.782069  1.651975  0.71707  \n",
            "5351           2.497466  1.084967  1.592797  1.01847  \n",
            "\n",
            "[5352 rows x 15 columns]\n"
          ]
        }
      ]
    },
    {
      "cell_type": "code",
      "source": [
        "# Remove rows with any NaN values\n",
        "df = df.dropna()\n",
        "\n",
        "print(df)"
      ],
      "metadata": {
        "id": "9302ggubxJJI",
        "colab": {
          "base_uri": "https://localhost:8080/"
        },
        "outputId": "7bbfb8cc-c07f-40e4-c758-e0291f0f5093"
      },
      "execution_count": 3,
      "outputs": [
        {
          "output_type": "stream",
          "name": "stdout",
          "text": [
            "                TIMESTAMP  Hour         Phen_Stage TT_C_2_Avg  Tb_in_K  \\\n",
            "0     2023-10-06 10:00:00    10  Flowering_Nut_Set      28.68   301.83   \n",
            "2     2023-10-06 12:00:00    12  Flowering_Nut_Set      31.72   304.87   \n",
            "3     2023-10-06 13:00:00    13  Flowering_Nut_Set      33.02   306.17   \n",
            "4     2023-10-06 14:00:00    14  Flowering_Nut_Set      33.16   306.31   \n",
            "5     2023-10-06 15:00:00    15  Flowering_Nut_Set      32.72   305.87   \n",
            "...                   ...   ...                ...        ...      ...   \n",
            "5347  2024-05-16 10:00:00    10   Shuck_Dehiscence      21.92   295.07   \n",
            "5348  2024-05-16 11:00:00    11   Shuck_Dehiscence      23.94   297.09   \n",
            "5349  2024-05-16 12:00:00    12   Shuck_Dehiscence      25.46   298.61   \n",
            "5350  2024-05-16 13:00:00    13   Shuck_Dehiscence      25.77   298.92   \n",
            "5351  2024-05-16 14:00:00    14   Shuck_Dehiscence      26.57   299.72   \n",
            "\n",
            "      Ts_corrected   Ts_in_°C  Average Air Temperature (°C)  \\\n",
            "0       303.358217  30.208217                      26.08076   \n",
            "2       306.413567  33.263567                      29.16127   \n",
            "3       307.720125  34.570125                      30.55263   \n",
            "4       307.860819  34.710819                      31.27149   \n",
            "5       307.418579  34.268579                      31.78636   \n",
            "...            ...        ...                           ...   \n",
            "5347    296.564033  23.414033                      21.31849   \n",
            "5348    298.594246  25.444246                      23.16628   \n",
            "5349    300.121928  26.971928                      24.63934   \n",
            "5350    300.433493  27.283493                      25.05293   \n",
            "5351    301.237539  28.087539                      25.55153   \n",
            "\n",
            "      Average Wind Speed (m/s)  Average RH (%)  Total Rainfall (mm)  \\\n",
            "0                     1.626597        23.38279                  0.0   \n",
            "2                     2.380682        20.14454                  0.0   \n",
            "3                     2.389570        18.40354                  0.0   \n",
            "4                     2.281875        16.36658                  0.0   \n",
            "5                     2.261374        13.12674                  0.0   \n",
            "...                        ...             ...                  ...   \n",
            "5347                  1.590527        35.13768                  0.0   \n",
            "5348                  1.612181        30.62375                  0.0   \n",
            "5349                  1.812820        24.88638                  0.0   \n",
            "5350                  3.084222        25.12379                  0.0   \n",
            "5351                  2.428473        23.14538                  0.0   \n",
            "\n",
            "      Average VPD (kPa)    Rs/Rso        Rn    Tc-Ta  \n",
            "0              2.531433  0.680263  2.160929  2.59924  \n",
            "2              3.206956  0.835479  2.656308  2.55873  \n",
            "3              3.590071  0.918785  2.604723  2.46737  \n",
            "4              3.767012  1.008139  2.303601  1.88851  \n",
            "5              3.935148  1.161753  1.877310  0.93364  \n",
            "...                 ...       ...       ...      ...  \n",
            "5347           1.612450  0.487934  1.379544  0.60151  \n",
            "5348           1.912827  0.612339  1.719259  0.77372  \n",
            "5349           2.190072  0.742489  1.895047  0.82066  \n",
            "5350           2.393972  0.782069  1.651975  0.71707  \n",
            "5351           2.497466  1.084967  1.592797  1.01847  \n",
            "\n",
            "[5350 rows x 15 columns]\n"
          ]
        }
      ]
    },
    {
      "cell_type": "code",
      "source": [
        "print(df.dtypes)"
      ],
      "metadata": {
        "id": "YZkNTNCqxJGk",
        "colab": {
          "base_uri": "https://localhost:8080/"
        },
        "outputId": "25290458-614e-4051-83cc-69c6f1cd5a8b"
      },
      "execution_count": 4,
      "outputs": [
        {
          "output_type": "stream",
          "name": "stdout",
          "text": [
            "TIMESTAMP                        object\n",
            "Hour                              int64\n",
            "Phen_Stage                       object\n",
            "TT_C_2_Avg                       object\n",
            "Tb_in_K                         float64\n",
            "Ts_corrected                    float64\n",
            "Ts_in_°C                        float64\n",
            "Average Air Temperature (°C)    float64\n",
            "Average Wind Speed (m/s)        float64\n",
            "Average RH (%)                  float64\n",
            "Total Rainfall (mm)             float64\n",
            "Average VPD (kPa)               float64\n",
            "Rs/Rso                          float64\n",
            "Rn                              float64\n",
            "Tc-Ta                           float64\n",
            "dtype: object\n"
          ]
        }
      ]
    },
    {
      "cell_type": "code",
      "source": [
        "df['TT_C_2_Avg'] = df['TT_C_2_Avg'].astype(float)\n",
        "#df['Rs/Rso'] = df['Rs/Rso'].astype(float)\n",
        "#df['Tc-Ta'] = df['Tc-Ta'].astype(float)\n",
        "#df['Hour'] = df['Hour'].astype(int)\n",
        "df['TIMESTAMP'] = pd.to_datetime(df['TIMESTAMP'])\n",
        "#df['Average Air Temperature (°C)'] = df['Average Air Temperature (°C)'].astype(int)\n",
        "#df['Average Wind Speed (m/s)'] = df['Average Wind Speed (m/s)'].astype(int)\n",
        "#df['Average RH (%)'] = df['Average RH (%)'].astype(int)\n",
        "#df['Total Rainfall (mm)'] = df['Total Rainfall (mm)'].astype(int)\n",
        "#df['Average VPD (kPa)'] = df['Average VPD (kPa)'].astype(int)\n",
        "\n",
        "df['Phen_Stage'] = df['Phen_Stage'].astype(str)"
      ],
      "metadata": {
        "id": "wPwRTiUSxXOr"
      },
      "execution_count": 5,
      "outputs": []
    },
    {
      "cell_type": "code",
      "source": [
        "print(df.dtypes)"
      ],
      "metadata": {
        "id": "U4Rsb_2JxXJN"
      },
      "execution_count": null,
      "outputs": []
    },
    {
      "cell_type": "markdown",
      "source": [
        "# **Create Well-watered Dataframe, and calculate the NWSB (Tc-Ta)LL**"
      ],
      "metadata": {
        "id": "6PqpqZexxKJ0"
      }
    },
    {
      "cell_type": "code",
      "source": [
        "NWSB_FNS_df = df[(df['Rs/Rso'] > 0.6) & (df['Hour'].between(11, 15)) & (df['Phen_Stage'] == \"Flowering_Nut_Set\")]"
      ],
      "metadata": {
        "id": "a2YX_tgHxJD-"
      },
      "execution_count": 6,
      "outputs": []
    },
    {
      "cell_type": "code",
      "source": [
        "print(NWSB_FNS_df)"
      ],
      "metadata": {
        "id": "-peqmbFExJBG",
        "colab": {
          "base_uri": "https://localhost:8080/"
        },
        "outputId": "d45354c4-69d3-48ec-b826-c7bcc0960723"
      },
      "execution_count": 7,
      "outputs": [
        {
          "output_type": "stream",
          "name": "stdout",
          "text": [
            "               TIMESTAMP  Hour         Phen_Stage  TT_C_2_Avg  Tb_in_K  \\\n",
            "2    2023-10-06 12:00:00    12  Flowering_Nut_Set       31.72   304.87   \n",
            "3    2023-10-06 13:00:00    13  Flowering_Nut_Set       33.02   306.17   \n",
            "4    2023-10-06 14:00:00    14  Flowering_Nut_Set       33.16   306.31   \n",
            "5    2023-10-06 15:00:00    15  Flowering_Nut_Set       32.72   305.87   \n",
            "25   2023-10-07 11:00:00    11  Flowering_Nut_Set       28.74   301.89   \n",
            "...                  ...   ...                ...         ...      ...   \n",
            "986  2023-11-16 13:00:00    13  Flowering_Nut_Set       27.53   300.68   \n",
            "987  2023-11-16 14:00:00    14  Flowering_Nut_Set       27.98   301.13   \n",
            "988  2023-11-16 15:00:00    15  Flowering_Nut_Set       28.83   301.98   \n",
            "1011 2023-11-17 14:00:00    14  Flowering_Nut_Set       25.29   298.44   \n",
            "1012 2023-11-17 15:00:00    15  Flowering_Nut_Set       25.29   298.44   \n",
            "\n",
            "      Ts_corrected   Ts_in_°C  Average Air Temperature (°C)  \\\n",
            "2       306.413567  33.263567                      29.16127   \n",
            "3       307.720125  34.570125                      30.55263   \n",
            "4       307.860819  34.710819                      31.27149   \n",
            "5       307.418579  34.268579                      31.78636   \n",
            "25      303.418513  30.268513                      26.72696   \n",
            "...            ...        ...                           ...   \n",
            "986     302.202402  29.052402                      25.43582   \n",
            "987     302.654667  29.504667                      26.45281   \n",
            "988     303.508963  30.358963                      27.08710   \n",
            "1011    299.951076  26.801076                      23.79136   \n",
            "1012    299.951066  26.801066                      24.74225   \n",
            "\n",
            "      Average Wind Speed (m/s)  Average RH (%)  Total Rainfall (mm)  \\\n",
            "2                     2.380682        20.14454                  0.0   \n",
            "3                     2.389570        18.40354                  0.0   \n",
            "4                     2.281875        16.36658                  0.0   \n",
            "5                     2.261374        13.12674                  0.0   \n",
            "25                    2.581556        25.51472                  0.0   \n",
            "...                        ...             ...                  ...   \n",
            "986                   3.231750        45.38423                  0.0   \n",
            "987                   2.894195        41.80886                  0.0   \n",
            "988                   2.819930        38.35061                  0.0   \n",
            "1011                  4.443154        49.98996                  0.0   \n",
            "1012                  4.763084        44.06899                  0.0   \n",
            "\n",
            "      Average VPD (kPa)    Rs/Rso        Rn    Tc-Ta  \n",
            "2              3.206956  0.835479  2.656308  2.55873  \n",
            "3              3.590071  0.918785  2.604723  2.46737  \n",
            "4              3.767012  1.008139  2.303601  1.88851  \n",
            "5              3.935148  1.161753  1.877310  0.93364  \n",
            "25             2.460447  0.762887  2.534305  2.01304  \n",
            "...                 ...       ...       ...      ...  \n",
            "986            1.789317  1.187615  2.427200  2.09418  \n",
            "987            1.999740  1.801661  2.182781  1.52719  \n",
            "988            2.111903  5.443043  1.891403  1.74290  \n",
            "1011           1.419098  1.221262  1.339018  1.49864  \n",
            "1012           1.679256  3.606446  0.967597  0.54775  \n",
            "\n",
            "[162 rows x 15 columns]\n"
          ]
        }
      ]
    },
    {
      "cell_type": "code",
      "source": [
        "# Select Tc - Ta and VPD\n",
        "X = NWSB_FNS_df['Average VPD (kPa)'].values.reshape(-1, 1)  # Independent variable\n",
        "y = (NWSB_FNS_df['Ts_in_°C'] - NWSB_FNS_df['Average Air Temperature (°C)']).values.reshape(-1, 1) # Dependent variable"
      ],
      "metadata": {
        "id": "RnGWTcm9xI-W"
      },
      "execution_count": 8,
      "outputs": []
    },
    {
      "cell_type": "code",
      "source": [
        "# Perform linear regression\n",
        "model = LinearRegression()\n",
        "model.fit(X, y)"
      ],
      "metadata": {
        "id": "QKKtljVqxI7s",
        "colab": {
          "base_uri": "https://localhost:8080/",
          "height": 74
        },
        "outputId": "c3c83d1f-c4c5-4e7a-cf0f-a3b341490682"
      },
      "execution_count": 9,
      "outputs": [
        {
          "output_type": "execute_result",
          "data": {
            "text/plain": [
              "LinearRegression()"
            ],
            "text/html": [
              "<style>#sk-container-id-1 {color: black;}#sk-container-id-1 pre{padding: 0;}#sk-container-id-1 div.sk-toggleable {background-color: white;}#sk-container-id-1 label.sk-toggleable__label {cursor: pointer;display: block;width: 100%;margin-bottom: 0;padding: 0.3em;box-sizing: border-box;text-align: center;}#sk-container-id-1 label.sk-toggleable__label-arrow:before {content: \"▸\";float: left;margin-right: 0.25em;color: #696969;}#sk-container-id-1 label.sk-toggleable__label-arrow:hover:before {color: black;}#sk-container-id-1 div.sk-estimator:hover label.sk-toggleable__label-arrow:before {color: black;}#sk-container-id-1 div.sk-toggleable__content {max-height: 0;max-width: 0;overflow: hidden;text-align: left;background-color: #f0f8ff;}#sk-container-id-1 div.sk-toggleable__content pre {margin: 0.2em;color: black;border-radius: 0.25em;background-color: #f0f8ff;}#sk-container-id-1 input.sk-toggleable__control:checked~div.sk-toggleable__content {max-height: 200px;max-width: 100%;overflow: auto;}#sk-container-id-1 input.sk-toggleable__control:checked~label.sk-toggleable__label-arrow:before {content: \"▾\";}#sk-container-id-1 div.sk-estimator input.sk-toggleable__control:checked~label.sk-toggleable__label {background-color: #d4ebff;}#sk-container-id-1 div.sk-label input.sk-toggleable__control:checked~label.sk-toggleable__label {background-color: #d4ebff;}#sk-container-id-1 input.sk-hidden--visually {border: 0;clip: rect(1px 1px 1px 1px);clip: rect(1px, 1px, 1px, 1px);height: 1px;margin: -1px;overflow: hidden;padding: 0;position: absolute;width: 1px;}#sk-container-id-1 div.sk-estimator {font-family: monospace;background-color: #f0f8ff;border: 1px dotted black;border-radius: 0.25em;box-sizing: border-box;margin-bottom: 0.5em;}#sk-container-id-1 div.sk-estimator:hover {background-color: #d4ebff;}#sk-container-id-1 div.sk-parallel-item::after {content: \"\";width: 100%;border-bottom: 1px solid gray;flex-grow: 1;}#sk-container-id-1 div.sk-label:hover label.sk-toggleable__label {background-color: #d4ebff;}#sk-container-id-1 div.sk-serial::before {content: \"\";position: absolute;border-left: 1px solid gray;box-sizing: border-box;top: 0;bottom: 0;left: 50%;z-index: 0;}#sk-container-id-1 div.sk-serial {display: flex;flex-direction: column;align-items: center;background-color: white;padding-right: 0.2em;padding-left: 0.2em;position: relative;}#sk-container-id-1 div.sk-item {position: relative;z-index: 1;}#sk-container-id-1 div.sk-parallel {display: flex;align-items: stretch;justify-content: center;background-color: white;position: relative;}#sk-container-id-1 div.sk-item::before, #sk-container-id-1 div.sk-parallel-item::before {content: \"\";position: absolute;border-left: 1px solid gray;box-sizing: border-box;top: 0;bottom: 0;left: 50%;z-index: -1;}#sk-container-id-1 div.sk-parallel-item {display: flex;flex-direction: column;z-index: 1;position: relative;background-color: white;}#sk-container-id-1 div.sk-parallel-item:first-child::after {align-self: flex-end;width: 50%;}#sk-container-id-1 div.sk-parallel-item:last-child::after {align-self: flex-start;width: 50%;}#sk-container-id-1 div.sk-parallel-item:only-child::after {width: 0;}#sk-container-id-1 div.sk-dashed-wrapped {border: 1px dashed gray;margin: 0 0.4em 0.5em 0.4em;box-sizing: border-box;padding-bottom: 0.4em;background-color: white;}#sk-container-id-1 div.sk-label label {font-family: monospace;font-weight: bold;display: inline-block;line-height: 1.2em;}#sk-container-id-1 div.sk-label-container {text-align: center;}#sk-container-id-1 div.sk-container {/* jupyter's `normalize.less` sets `[hidden] { display: none; }` but bootstrap.min.css set `[hidden] { display: none !important; }` so we also need the `!important` here to be able to override the default hidden behavior on the sphinx rendered scikit-learn.org. See: https://github.com/scikit-learn/scikit-learn/issues/21755 */display: inline-block !important;position: relative;}#sk-container-id-1 div.sk-text-repr-fallback {display: none;}</style><div id=\"sk-container-id-1\" class=\"sk-top-container\"><div class=\"sk-text-repr-fallback\"><pre>LinearRegression()</pre><b>In a Jupyter environment, please rerun this cell to show the HTML representation or trust the notebook. <br />On GitHub, the HTML representation is unable to render, please try loading this page with nbviewer.org.</b></div><div class=\"sk-container\" hidden><div class=\"sk-item\"><div class=\"sk-estimator sk-toggleable\"><input class=\"sk-toggleable__control sk-hidden--visually\" id=\"sk-estimator-id-1\" type=\"checkbox\" checked><label for=\"sk-estimator-id-1\" class=\"sk-toggleable__label sk-toggleable__label-arrow\">LinearRegression</label><div class=\"sk-toggleable__content\"><pre>LinearRegression()</pre></div></div></div></div></div>"
            ]
          },
          "metadata": {},
          "execution_count": 9
        }
      ]
    },
    {
      "cell_type": "code",
      "source": [
        "# Extract coefficients\n",
        "a = model.coef_[0][0]\n",
        "b = model.intercept_[0]\n",
        "\n",
        "print(a)\n",
        "print(b)"
      ],
      "metadata": {
        "id": "S6BzcIejxI5E",
        "colab": {
          "base_uri": "https://localhost:8080/"
        },
        "outputId": "1ae1691a-918c-4c08-adee-20c37f2ddde0"
      },
      "execution_count": 10,
      "outputs": [
        {
          "output_type": "stream",
          "name": "stdout",
          "text": [
            "-0.03073221892341509\n",
            "2.2956157378551416\n"
          ]
        }
      ]
    },
    {
      "cell_type": "markdown",
      "source": [
        "*As (Tc-Ta)LL = a x VPD + b*"
      ],
      "metadata": {
        "id": "w_2odNkLx-DC"
      }
    },
    {
      "cell_type": "code",
      "source": [
        "# Calculate NWSB (Tc-Ta)_LL\n",
        "NWSB_FNS_df.loc[:, 'Tc_Ta_LL'] = a * NWSB_FNS_df['Average VPD (kPa)'] + b"
      ],
      "metadata": {
        "id": "FK_HElEFxI2c",
        "colab": {
          "base_uri": "https://localhost:8080/"
        },
        "outputId": "9d74cce7-49ec-472d-c5cd-fd754725bee6"
      },
      "execution_count": 11,
      "outputs": [
        {
          "output_type": "stream",
          "name": "stderr",
          "text": [
            "<ipython-input-11-4ad6b1c837f1>:2: SettingWithCopyWarning: \n",
            "A value is trying to be set on a copy of a slice from a DataFrame.\n",
            "Try using .loc[row_indexer,col_indexer] = value instead\n",
            "\n",
            "See the caveats in the documentation: https://pandas.pydata.org/pandas-docs/stable/user_guide/indexing.html#returning-a-view-versus-a-copy\n",
            "  NWSB_FNS_df.loc[:, 'Tc_Ta_LL'] = a * NWSB_FNS_df['Average VPD (kPa)'] + b\n"
          ]
        }
      ]
    },
    {
      "cell_type": "code",
      "source": [
        "# Visualize the regression\n",
        "plt.scatter(X, y, color='blue', label='Data Points')\n",
        "plt.plot(X, model.predict(X), color='red', label=f'NWSB: (Tc-Ta)_LL = {a:.2f} * VPD + {b:.2f}')\n",
        "plt.xlabel('VPD (kPa)')\n",
        "plt.ylabel('Tc - Ta (°C)')\n",
        "plt.legend()\n",
        "plt.title('Flowering & Nut Set NWSB Linear Regression')\n",
        "plt.show()"
      ],
      "metadata": {
        "id": "TqwaZzJgxIz8",
        "colab": {
          "base_uri": "https://localhost:8080/",
          "height": 472
        },
        "outputId": "14ca99b4-2dc2-4623-c1c5-6da27efb2e9a"
      },
      "execution_count": 12,
      "outputs": [
        {
          "output_type": "display_data",
          "data": {
            "text/plain": [
              "<Figure size 640x480 with 1 Axes>"
            ],
            "image/png": "[encoded data removed]"
          },
          "metadata": {}
        }
      ]
    },
    {
      "cell_type": "markdown",
      "source": [
        "# **Calculate the WSB/non-transpiring baseline (Tc-Ta)UL**"
      ],
      "metadata": {
        "id": "cNkqGGgnyOo0"
      }
    },
    {
      "cell_type": "markdown",
      "source": [
        "*Using Ta + 5*"
      ],
      "metadata": {
        "id": "DF2VVemoyXbX"
      }
    },
    {
      "cell_type": "code",
      "source": [
        "# Assuming a constant value of 5 degrees Celsius above air temperature, and a constant air temperature of 22 for this day\n",
        "# Constants\n",
        "VPD = 1.27  # kPa\n",
        "Ta = 22.52  # °C\n",
        "\n",
        "Tc_Ta_UL_1 = Ta + 5"
      ],
      "metadata": {
        "id": "xeNaVhg2xIxY"
      },
      "execution_count": 13,
      "outputs": []
    },
    {
      "cell_type": "code",
      "source": [
        "# Visualize the baseline\n",
        "\n"
      ],
      "metadata": {
        "id": "iO_AEUpOxIu-"
      },
      "execution_count": null,
      "outputs": []
    },
    {
      "cell_type": "markdown",
      "source": [
        "*Using (Tc- Ta)UL = aVPG + b, where*\n",
        "\n",
        "*VPG = 6.1e(17.27 ((Ta + b)/ (Ta + b) + 237.3)) - 6.1e(17.27 (Ta/(Ta + 237.3)) italicized text*"
      ],
      "metadata": {
        "id": "aTEw3pUPymZf"
      }
    },
    {
      "cell_type": "code",
      "source": [
        "import numpy as np\n",
        "\n",
        "# Assuming you want to calculate the saturation vapor pressure (VPG) using the formula:\n",
        "# VPG = 6.1 * 10^((17.27 * Ta) / (Ta + 237.3))\n",
        "\n",
        "# Correct Python implementation\n",
        "VPG = 6.1 * np.exp(17.27 * ((Ta + b) / (Ta + b + 237.3))) - 6.1 * np.exp(17.27 * (Ta / (Ta + 237.3)))\n",
        "\n",
        "# Print the result\n",
        "print(f\"Calculated VPG: {VPG}\")\n",
        "\n",
        "#VPG = 6.1e(17.27 * ((Ta + b) / (Ta + b) + 237.3)) - 6.1e(17.27 * (Ta / (Ta + 237.3)))"
      ],
      "metadata": {
        "id": "h1xm4R9VxIsb"
      },
      "execution_count": null,
      "outputs": []
    },
    {
      "cell_type": "code",
      "source": [
        "Tc_Ta_UL_2 = a * VPG + b"
      ],
      "metadata": {
        "id": "aI7Kx8N0xIp6"
      },
      "execution_count": null,
      "outputs": []
    },
    {
      "cell_type": "code",
      "source": [
        "Tc_Ta_UL_2"
      ],
      "metadata": {
        "id": "21X_86d_z8Iu"
      },
      "execution_count": null,
      "outputs": []
    },
    {
      "cell_type": "code",
      "source": [
        "# Visualise the baseline\n",
        "\n"
      ],
      "metadata": {
        "id": "-w7etBD7xInX"
      },
      "execution_count": null,
      "outputs": []
    },
    {
      "cell_type": "markdown",
      "source": [
        "# **Calculate CWSI using Remotely Sensed Temp data, and calculated (Tc-Ta)LL and (Tc-Ta)UL**"
      ],
      "metadata": {
        "id": "4IEpZFyKzBnS"
      }
    },
    {
      "cell_type": "markdown",
      "source": [
        "*CWSI with (Tc-Ta)LL as aVPD+b & (Tc-Ta)UL as Ta+5*"
      ],
      "metadata": {
        "id": "OXLJxUqkzISH"
      }
    },
    {
      "cell_type": "code",
      "source": [
        "# Load your dataset containing our thermal data from the RS thermal camera (with info on individual trees)\n",
        "\n",
        "from google.colab import files\n",
        "uploaded = files.upload()\n",
        "\n",
        "# Load your dataset with temperature values for each tree (ensure the Excel sheet is correctly formatted)\n",
        "# Assuming your data is in a CSV file named 'your_data.csv'\n",
        "tree_temps_df = pd.read_excel('Tree_level_8Nov.xlsx')"
      ],
      "metadata": {
        "id": "PG6WagMlxIku",
        "colab": {
          "base_uri": "https://localhost:8080/",
          "height": 73
        },
        "outputId": "cb7030b5-2978-40fc-be2f-641b609dec46"
      },
      "execution_count": 14,
      "outputs": [
        {
          "output_type": "display_data",
          "data": {
            "text/plain": [
              "<IPython.core.display.HTML object>"
            ],
            "text/html": [
              "\n",
              "     <input type=\"file\" id=\"files-b252f53f-0a05-4738-adef-e7d8e0d47a41\" name=\"files[]\" multiple disabled\n",
              "        style=\"border:none\" />\n",
              "     <output id=\"result-b252f53f-0a05-4738-adef-e7d8e0d47a41\">\n",
              "      Upload widget is only available when the cell has been executed in the\n",
              "      current browser session. Please rerun this cell to enable.\n",
              "      </output>\n",
              "      <script>// Copyright 2017 Google LLC\n",
              "//\n",
              "// Licensed under the Apache License, Version 2.0 (the \"License\");\n",
              "// you may not use this file except in compliance with the License.\n",
              "// You may obtain a copy of the License at\n",
              "//\n",
              "//      http://www.apache.org/licenses/LICENSE-2.0\n",
              "//\n",
              "// Unless required by applicable law or agreed to in writing, software\n",
              "// distributed under the License is distributed on an \"AS IS\" BASIS,\n",
              "// WITHOUT WARRANTIES OR CONDITIONS OF ANY KIND, either express or implied.\n",
              "// See the License for the specific language governing permissions and\n",
              "// limitations under the License.\n",
              "\n",
              "/**\n",
              " * @fileoverview Helpers for google.colab Python module.\n",
              " */\n",
              "(function(scope) {\n",
              "function span(text, styleAttributes = {}) {\n",
              "  const element = document.createElement('span');\n",
              "  element.textContent = text;\n",
              "  for (const key of Object.keys(styleAttributes)) {\n",
              "    element.style[key] = styleAttributes[key];\n",
              "  }\n",
              "  return element;\n",
              "}\n",
              "\n",
              "// Max number of bytes which will be uploaded at a time.\n",
              "const MAX_PAYLOAD_SIZE = 100 * 1024;\n",
              "\n",
              "function _uploadFiles(inputId, outputId) {\n",
              "  const steps = uploadFilesStep(inputId, outputId);\n",
              "  const outputElement = document.getElementById(outputId);\n",
              "  // Cache steps on the outputElement to make it available for the next call\n",
              "  // to uploadFilesContinue from Python.\n",
              "  outputElement.steps = steps;\n",
              "\n",
              "  return _uploadFilesContinue(outputId);\n",
              "}\n",
              "\n",
              "// This is roughly an async generator (not supported in the browser yet),\n",
              "// where there are multiple asynchronous steps and the Python side is going\n",
              "// to poll for completion of each step.\n",
              "// This uses a Promise to block the python side on completion of each step,\n",
              "// then passes the result of the previous step as the input to the next step.\n",
              "function _uploadFilesContinue(outputId) {\n",
              "  const outputElement = document.getElementById(outputId);\n",
              "  const steps = outputElement.steps;\n",
              "\n",
              "  const next = steps.next(outputElement.lastPromiseValue);\n",
              "  return Promise.resolve(next.value.promise).then((value) => {\n",
              "    // Cache the last promise value to make it available to the next\n",
              "    // step of the generator.\n",
              "    outputElement.lastPromiseValue = value;\n",
              "    return next.value.response;\n",
              "  });\n",
              "}\n",
              "\n",
              "/**\n",
              " * Generator function which is called between each async step of the upload\n",
              " * process.\n",
              " * @param {string} inputId Element ID of the input file picker element.\n",
              " * @param {string} outputId Element ID of the output display.\n",
              " * @return {!Iterable<!Object>} Iterable of next steps.\n",
              " */\n",
              "function* uploadFilesStep(inputId, outputId) {\n",
              "  const inputElement = document.getElementById(inputId);\n",
              "  inputElement.disabled = false;\n",
              "\n",
              "  const outputElement = document.getElementById(outputId);\n",
              "  outputElement.innerHTML = '';\n",
              "\n",
              "  const pickedPromise = new Promise((resolve) => {\n",
              "    inputElement.addEventListener('change', (e) => {\n",
              "      resolve(e.target.files);\n",
              "    });\n",
              "  });\n",
              "\n",
              "  const cancel = document.createElement('button');\n",
              "  inputElement.parentElement.appendChild(cancel);\n",
              "  cancel.textContent = 'Cancel upload';\n",
              "  const cancelPromise = new Promise((resolve) => {\n",
              "    cancel.onclick = () => {\n",
              "      resolve(null);\n",
              "    };\n",
              "  });\n",
              "\n",
              "  // Wait for the user to pick the files.\n",
              "  const files = yield {\n",
              "    promise: Promise.race([pickedPromise, cancelPromise]),\n",
              "    response: {\n",
              "      action: 'starting',\n",
              "    }\n",
              "  };\n",
              "\n",
              "  cancel.remove();\n",
              "\n",
              "  // Disable the input element since further picks are not allowed.\n",
              "  inputElement.disabled = true;\n",
              "\n",
              "  if (!files) {\n",
              "    return {\n",
              "      response: {\n",
              "        action: 'complete',\n",
              "      }\n",
              "    };\n",
              "  }\n",
              "\n",
              "  for (const file of files) {\n",
              "    const li = document.createElement('li');\n",
              "    li.append(span(file.name, {fontWeight: 'bold'}));\n",
              "    li.append(span(\n",
              "        `(${file.type || 'n/a'}) - ${file.size} bytes, ` +\n",
              "        `last modified: ${\n",
              "            file.lastModifiedDate ? file.lastModifiedDate.toLocaleDateString() :\n",
              "                                    'n/a'} - `));\n",
              "    const percent = span('0% done');\n",
              "    li.appendChild(percent);\n",
              "\n",
              "    outputElement.appendChild(li);\n",
              "\n",
              "    const fileDataPromise = new Promise((resolve) => {\n",
              "      const reader = new FileReader();\n",
              "      reader.onload = (e) => {\n",
              "        resolve(e.target.result);\n",
              "      };\n",
              "      reader.readAsArrayBuffer(file);\n",
              "    });\n",
              "    // Wait for the data to be ready.\n",
              "    let fileData = yield {\n",
              "      promise: fileDataPromise,\n",
              "      response: {\n",
              "        action: 'continue',\n",
              "      }\n",
              "    };\n",
              "\n",
              "    // Use a chunked sending to avoid message size limits. See b/62115660.\n",
              "    let position = 0;\n",
              "    do {\n",
              "      const length = Math.min(fileData.byteLength - position, MAX_PAYLOAD_SIZE);\n",
              "      const chunk = new Uint8Array(fileData, position, length);\n",
              "      position += length;\n",
              "\n",
              "      const base64 = btoa(String.fromCharCode.apply(null, chunk));\n",
              "      yield {\n",
              "        response: {\n",
              "          action: 'append',\n",
              "          file: file.name,\n",
              "          data: base64,\n",
              "        },\n",
              "      };\n",
              "\n",
              "      let percentDone = fileData.byteLength === 0 ?\n",
              "          100 :\n",
              "          Math.round((position / fileData.byteLength) * 100);\n",
              "      percent.textContent = `${percentDone}% done`;\n",
              "\n",
              "    } while (position < fileData.byteLength);\n",
              "  }\n",
              "\n",
              "  // All done.\n",
              "  yield {\n",
              "    response: {\n",
              "      action: 'complete',\n",
              "    }\n",
              "  };\n",
              "}\n",
              "\n",
              "scope.google = scope.google || {};\n",
              "scope.google.colab = scope.google.colab || {};\n",
              "scope.google.colab._files = {\n",
              "  _uploadFiles,\n",
              "  _uploadFilesContinue,\n",
              "};\n",
              "})(self);\n",
              "</script> "
            ]
          },
          "metadata": {}
        },
        {
          "output_type": "stream",
          "name": "stdout",
          "text": [
            "Saving Tree_level_8Nov.xlsx to Tree_level_8Nov.xlsx\n"
          ]
        }
      ]
    },
    {
      "cell_type": "code",
      "source": [
        "print(tree_temps_df)"
      ],
      "metadata": {
        "id": "kKMBRautxIiR",
        "colab": {
          "base_uri": "https://localhost:8080/"
        },
        "outputId": "5cfe596c-604e-4314-c0e5-ad3750c23a78"
      },
      "execution_count": 15,
      "outputs": [
        {
          "output_type": "stream",
          "name": "stdout",
          "text": [
            "                                              wkt_geom  fid   id         left  \\\n",
            "0    Polygon ((28.2566062538695526 -25.749439050594...  159  159  626031.7801   \n",
            "1    Polygon ((28.25721667385957758 -25.74899196683...  316  316  626091.7801   \n",
            "2    Polygon ((28.25662053871013768 -25.74880030945...  152  152  626031.7801   \n",
            "3    Polygon ((28.25661541331590598 -25.74889025806...  153  153  626031.7801   \n",
            "4    Polygon ((28.25680243158734584 -25.74943469031...  213  213  626051.7801   \n",
            "..                                                 ...  ...  ...          ...   \n",
            "156  Polygon ((28.25713459927946403 -25.74853638938...  284  284  626081.7801   \n",
            "157  Polygon ((28.25711581108937409 -25.74890324921...  288  288  626081.7801   \n",
            "158  Polygon ((28.25732789931782563 -25.74864188597...  339  339  626101.7801   \n",
            "159  Polygon ((28.25712351035511816 -25.74881279807...  287  287  626081.7801   \n",
            "160  Polygon ((28.25712256003077982 -25.74871815979...  286  286  626081.7801   \n",
            "\n",
            "              top        right        bottom  row_index  col_index  NDVI_mean  \\\n",
            "0    7.151455e+06  626041.7801  7.151445e+06         23          5   0.534556   \n",
            "1    7.151505e+06  626101.7801  7.151495e+06         18         11   0.452680   \n",
            "2    7.151525e+06  626041.7801  7.151515e+06         16          5   0.591956   \n",
            "3    7.151515e+06  626041.7801  7.151505e+06         17          5   0.572653   \n",
            "4    7.151455e+06  626061.7801  7.151445e+06         23          7   0.566705   \n",
            "..            ...          ...           ...        ...        ...        ...   \n",
            "156  7.151555e+06  626091.7801  7.151545e+06         13         10   0.747454   \n",
            "157  7.151515e+06  626091.7801  7.151505e+06         17         10   0.763998   \n",
            "158  7.151545e+06  626111.7801  7.151535e+06         14         12   0.794405   \n",
            "159  7.151525e+06  626091.7801  7.151515e+06         16         10   0.770821   \n",
            "160  7.151535e+06  626091.7801  7.151525e+06         15         10   0.798023   \n",
            "\n",
            "     ...  Ts_unmasked_min  Ts_unmasked_max  NDVI_masked_mean  \\\n",
            "0    ...       -34.300915        39.760433          0.368399   \n",
            "1    ...        -0.695041        46.009129          0.332590   \n",
            "2    ...         2.948448        47.936855          0.521320   \n",
            "3    ...         2.496756        51.775703          0.469580   \n",
            "4    ...       -24.926027        35.679855          0.426591   \n",
            "..   ...              ...              ...               ...   \n",
            "156  ...         7.868472        51.012272          0.656298   \n",
            "157  ...         5.956523        52.237946          0.707522   \n",
            "158  ...         5.351839        50.240273          0.728749   \n",
            "159  ...         7.004850        55.476028          0.706823   \n",
            "160  ...         7.538752        50.088875          0.759056   \n",
            "\n",
            "     NDVI_masked_median  Ts_masked_mean  Ts_masked_median  Ts_masked_min  \\\n",
            "0                   0.0       10.196880          0.000000              0   \n",
            "1                   0.0       10.418504          0.000000              0   \n",
            "2                   1.0       13.739221         24.017020              0   \n",
            "3                   0.0       12.943464          0.000000              0   \n",
            "4                   0.0       12.214357          0.000000              0   \n",
            "..                  ...             ...               ...            ...   \n",
            "156                 1.0       20.603285         29.246927              0   \n",
            "157                 1.0       22.563297         29.504606              0   \n",
            "158                 1.0       22.650212         29.549534              0   \n",
            "159                 1.0       23.103914         29.907471              0   \n",
            "160                 1.0       24.436592         29.597704              0   \n",
            "\n",
            "     Ts_masked_max  CWSI meth_1  CWSI meth_2  \n",
            "0        50.480022     0.000000     0.000000  \n",
            "1        60.349075     0.022509     0.028126  \n",
            "2        50.805309     0.050223     0.062756  \n",
            "3        61.907711     0.075256     0.094037  \n",
            "4        43.322540     0.098297     0.122828  \n",
            "..             ...          ...          ...  \n",
            "156      61.486240     0.800280     1.000000  \n",
            "157      62.052231     0.802078     1.002247  \n",
            "158      56.163387     0.841495     1.051501  \n",
            "159      62.490582     0.929850     1.161906  \n",
            "160      58.087963     0.947924     1.184490  \n",
            "\n",
            "[161 rows x 23 columns]\n"
          ]
        }
      ]
    },
    {
      "cell_type": "code",
      "source": [
        "print(tree_temps_df.dtypes)"
      ],
      "metadata": {
        "id": "cxKfnL0PxIfr",
        "colab": {
          "base_uri": "https://localhost:8080/"
        },
        "outputId": "3387a319-7cab-42dc-d0bf-26ba641d0c2c"
      },
      "execution_count": 16,
      "outputs": [
        {
          "output_type": "stream",
          "name": "stdout",
          "text": [
            "wkt_geom               object\n",
            "fid                     int64\n",
            "id                      int64\n",
            "left                  float64\n",
            "top                   float64\n",
            "right                 float64\n",
            "bottom                float64\n",
            "row_index               int64\n",
            "col_index               int64\n",
            "NDVI_mean             float64\n",
            "NDVI_median           float64\n",
            "Ts_unmasked_mean      float64\n",
            "Ts_unmasked_median    float64\n",
            "Ts_unmasked_min       float64\n",
            "Ts_unmasked_max       float64\n",
            "NDVI_masked_mean      float64\n",
            "NDVI_masked_median    float64\n",
            "Ts_masked_mean        float64\n",
            "Ts_masked_median      float64\n",
            "Ts_masked_min           int64\n",
            "Ts_masked_max         float64\n",
            "CWSI meth_1           float64\n",
            "CWSI meth_2           float64\n",
            "dtype: object\n"
          ]
        }
      ]
    },
    {
      "cell_type": "code",
      "source": [
        "tree_temps_df['id'] = tree_temps_df['id'].astype(str)"
      ],
      "metadata": {
        "id": "7maeJi3TxIc4"
      },
      "execution_count": 17,
      "outputs": []
    },
    {
      "cell_type": "code",
      "source": [
        "# Constants\n",
        "#VPD = 1.02  # kPa\n",
        "#Ta = 20.3  # °C"
      ],
      "metadata": {
        "id": "HuvyP57KxIab"
      },
      "execution_count": null,
      "outputs": []
    },
    {
      "cell_type": "code",
      "source": [
        "# Calculate Tc_Ta_LL for VPD = 1.84\n",
        "Tc_Ta_LL = a * VPD + b"
      ],
      "metadata": {
        "id": "XfOyiGpxxIX_"
      },
      "execution_count": 18,
      "outputs": []
    },
    {
      "cell_type": "code",
      "source": [
        "# Apply the constant Tc_Ta_LL to all rows\n",
        "tree_temps_df['Tc_Ta_LL'] = Tc_Ta_LL"
      ],
      "metadata": {
        "id": "edPuxgSLxIVb"
      },
      "execution_count": 19,
      "outputs": []
    },
    {
      "cell_type": "code",
      "source": [
        "# Apply the constant Tc_Ta_UL_1 to all rows\n",
        "#tree_temps_df['Tc_Ta_UL_1'] = Tc_Ta_UL_1"
      ],
      "metadata": {
        "id": "7NluKdpExITF"
      },
      "execution_count": null,
      "outputs": []
    },
    {
      "cell_type": "code",
      "source": [
        "# Apply the constant Tc_Ta_UL_2 to all rows\n",
        "#tree_temps_df['Tc_Ta_UL_2'] = Tc_Ta_UL_2"
      ],
      "metadata": {
        "id": "4IflAGkFxIQb"
      },
      "execution_count": null,
      "outputs": []
    },
    {
      "cell_type": "code",
      "source": [
        "# Calculate CWSI for each tree\n",
        "tree_temps_df['CWSI_1'] = (((tree_temps_df['Ts_unmasked_mean']) - Ta) - Tc_Ta_LL) / (Tc_Ta_UL_1 - Tc_Ta_LL)"
      ],
      "metadata": {
        "id": "WI0nF7TZ0m5X"
      },
      "execution_count": 20,
      "outputs": []
    },
    {
      "cell_type": "code",
      "source": [
        "print(tree_temps_df['CWSI_1'])"
      ],
      "metadata": {
        "id": "ll_61g4G0m1y",
        "colab": {
          "base_uri": "https://localhost:8080/"
        },
        "outputId": "2739c4f4-163d-45e8-e2ee-2415ba78097b"
      },
      "execution_count": 21,
      "outputs": [
        {
          "output_type": "stream",
          "name": "stdout",
          "text": [
            "0     -0.337351\n",
            "1     -0.327313\n",
            "2     -0.314955\n",
            "3     -0.303791\n",
            "4     -0.293516\n",
            "         ...   \n",
            "156    0.019529\n",
            "157    0.020330\n",
            "158    0.037908\n",
            "159    0.077309\n",
            "160    0.085369\n",
            "Name: CWSI_1, Length: 161, dtype: float64\n"
          ]
        }
      ]
    },
    {
      "cell_type": "code",
      "source": [
        "# Calculate CWSI for each tree\n",
        "#tree_temps_df['CWSI_2'] = (((tree_temps_df['Ts_unmasked_mean']) - Ta) - Tc_Ta_LL) / (Tc_Ta_UL_2 - Tc_Ta_LL)"
      ],
      "metadata": {
        "id": "RV_XZaFd0mzq"
      },
      "execution_count": null,
      "outputs": []
    },
    {
      "cell_type": "code",
      "source": [
        "#print(tree_temps_df['CWSI_2'])"
      ],
      "metadata": {
        "id": "p1aqJaNn0mxQ"
      },
      "execution_count": null,
      "outputs": []
    },
    {
      "cell_type": "markdown",
      "source": [
        "## *CWSI as (Tc-Ta)LL as aVPD+b & (Tc-Ta)UL as aVPG + b*"
      ],
      "metadata": {
        "id": "8LiGGIZg1Rkh"
      }
    },
    {
      "cell_type": "code",
      "source": [
        "# Apply the constant Tc_Ta_UL_2 to all rows\n",
        "#tree_temps_df['Tc_Ta_UL_2'] = Tc_Ta_UL_2"
      ],
      "metadata": {
        "id": "5W89qq1f1UOM"
      },
      "execution_count": null,
      "outputs": []
    },
    {
      "cell_type": "code",
      "source": [
        "# Calculate CWSI for each tree\n",
        "#tree_temps_df['CWSI_2'] = ((tree_temps_df['Ts_unmaskedmean'] - Ta) - Tc_Ta_LL) / (Tc_Ta_UL_2 - Tc_Ta_LL)"
      ],
      "metadata": {
        "id": "3euiLSsA1VjO"
      },
      "execution_count": null,
      "outputs": []
    },
    {
      "cell_type": "code",
      "source": [
        "#print(tree_temps_df['CWSI_2'])"
      ],
      "metadata": {
        "id": "SAaNVgLh1Vf4"
      },
      "execution_count": null,
      "outputs": []
    },
    {
      "cell_type": "markdown",
      "source": [
        "**Theoretical/Analytical approach where Tc measurements are combined with mwteorological data to compute CWSI. Theoretical CWSI is based on equations derived from the combination of Penman-Monteith equation and the energy balance equation (Jackson et al., 1981)**"
      ],
      "metadata": {
        "id": "zmMQtCvB1rDX"
      }
    },
    {
      "cell_type": "markdown",
      "source": [
        "*where, cP is the heat capacity of air (J kg− 1 ◦C), VPD is the air vapour pressure (Pa), γ is the psychrometric constant (Pa ◦ C− 1), rA is the aerodynamic resistance (s m− 1), rC is the canopy resistance (s m− 1), Δ is the change (slope) of saturation vapour pressure with temperature (Pa ◦C− 1), Rn is the net radiation (J m− 2 s− 1), G is heat flux consumed by soil (J m− 2 s− 1)*"
      ],
      "metadata": {
        "id": "zEDsuYVo1q4y"
      }
    },
    {
      "cell_type": "markdown",
      "source": [
        "*The aerodynamic resistance rA can be expressed as: rA = [4.72[ln(z - d)/z0]^2]/[1 + 0.54WS]*\n",
        "\n",
        "*where z is the reference height (m), d is the displacement height (m), d = 0.63 *h, h is the height of crop (m), z0 is the roughness length (m), z0 = 0.13 *h, and WS is the wind speed at height z (m2 s− 1) (Jackson et al., 1981)*"
      ],
      "metadata": {
        "id": "BJmA6K9f1qrp"
      }
    },
    {
      "cell_type": "markdown",
      "source": [
        "The (Tc -Ta)UL is derived by assuming an infinitely large canopy resistance ( rC ≈ ∞), (Tc- Ta)UL = [rA(Rn- G)]/ρcP"
      ],
      "metadata": {
        "id": "PFillUjj17q-"
      }
    },
    {
      "cell_type": "code",
      "source": [],
      "metadata": {
        "id": "4L_Gay4_1VeR"
      },
      "execution_count": null,
      "outputs": []
    },
    {
      "cell_type": "code",
      "source": [],
      "metadata": {
        "id": "62d4ycvU1Vak"
      },
      "execution_count": null,
      "outputs": []
    },
    {
      "cell_type": "markdown",
      "source": [
        "(Tc -Ta)LL is modelled for conditions when rC = rCP (the canopy resistance at full transpiration). According to Jackson et al., (1988, 1981), rCP can be assigned a value of zero or a known rCP value. In this study, rCP = 0 was used\n",
        "\n",
        "(Tc- Ta)LL = [rA(Rn- G)/ρcP] × [γ/(Δ + γ)] - [VPD/(Δ + γ)]"
      ],
      "metadata": {
        "id": "FSCb19O72CsJ"
      }
    },
    {
      "cell_type": "code",
      "source": [],
      "metadata": {
        "id": "aYl6oIV61VXw"
      },
      "execution_count": null,
      "outputs": []
    },
    {
      "cell_type": "code",
      "source": [],
      "metadata": {
        "id": "4X1uhHQF1VRj"
      },
      "execution_count": null,
      "outputs": []
    },
    {
      "cell_type": "markdown",
      "source": [
        "# **Save & Visualise the Results**"
      ],
      "metadata": {
        "id": "sJUez9Ga2G1O"
      }
    },
    {
      "cell_type": "code",
      "source": [
        "# Save the CWSI values to a new Excel file\n",
        "tree_temps_df.to_excel('tree_cwsi_values_8Nov24UPDATED.xlsx', index=False)\n",
        "\n",
        "print(\"CWSI calculation complete. The results have been saved to 'tree_cwsi_values.xlsx'.\")"
      ],
      "metadata": {
        "id": "sYQhP-5E1U66",
        "colab": {
          "base_uri": "https://localhost:8080/"
        },
        "outputId": "029d9306-8590-400c-d9a8-915d383d7b2d"
      },
      "execution_count": 22,
      "outputs": [
        {
          "output_type": "stream",
          "name": "stdout",
          "text": [
            "CWSI calculation complete. The results have been saved to 'tree_cwsi_values.xlsx'.\n"
          ]
        }
      ]
    },
    {
      "cell_type": "markdown",
      "source": [
        "# **Calculate the CWSI of each tree using the actual Thermal image, instead of the .csv or .xlsl file**"
      ],
      "metadata": {
        "id": "xeCO2xsZ2PRT"
      }
    },
    {
      "cell_type": "code",
      "source": [
        "import pandas as pd\n",
        "import geopandas as gpd\n",
        "import matplotlib.pyplot as plt\n",
        "from shapely.geometry import Polygon\n",
        "\n",
        "# Load the data\n",
        "data = pd.read_excel('tree_cwsi_values_8Nov24UPDATED.xlsx')  # or pd.read_csv('thermal_data_with_coordinates.csv')\n",
        "\n",
        "# Assuming the file contains columns for 'Tree_ID', 'Tc', 'polygon_coords'\n",
        "# polygon_coords should be a string representation of the polygon coordinates.\n",
        "# Example: \"[(x1,y1), (x2,y2), ...]\""
      ],
      "metadata": {
        "id": "onAkdoy62JkC"
      },
      "execution_count": 23,
      "outputs": []
    },
    {
      "cell_type": "code",
      "source": [
        "print(data)"
      ],
      "metadata": {
        "id": "pNLN3HBd2JcP",
        "colab": {
          "base_uri": "https://localhost:8080/"
        },
        "outputId": "a8fdf32d-eafd-4d5e-d0bb-cf81c6851586"
      },
      "execution_count": 24,
      "outputs": [
        {
          "output_type": "stream",
          "name": "stdout",
          "text": [
            "                                              wkt_geom  fid   id         left  \\\n",
            "0    Polygon ((28.2566062538695526 -25.749439050594...  159  159  626031.7801   \n",
            "1    Polygon ((28.25721667385957758 -25.74899196683...  316  316  626091.7801   \n",
            "2    Polygon ((28.25662053871013768 -25.74880030945...  152  152  626031.7801   \n",
            "3    Polygon ((28.25661541331590598 -25.74889025806...  153  153  626031.7801   \n",
            "4    Polygon ((28.25680243158734584 -25.74943469031...  213  213  626051.7801   \n",
            "..                                                 ...  ...  ...          ...   \n",
            "156  Polygon ((28.25713459927946403 -25.74853638938...  284  284  626081.7801   \n",
            "157  Polygon ((28.25711581108937409 -25.74890324921...  288  288  626081.7801   \n",
            "158  Polygon ((28.25732789931782563 -25.74864188597...  339  339  626101.7801   \n",
            "159  Polygon ((28.25712351035511816 -25.74881279807...  287  287  626081.7801   \n",
            "160  Polygon ((28.25712256003077982 -25.74871815979...  286  286  626081.7801   \n",
            "\n",
            "              top        right        bottom  row_index  col_index  NDVI_mean  \\\n",
            "0    7.151455e+06  626041.7801  7.151445e+06         23          5   0.534556   \n",
            "1    7.151505e+06  626101.7801  7.151495e+06         18         11   0.452680   \n",
            "2    7.151525e+06  626041.7801  7.151515e+06         16          5   0.591956   \n",
            "3    7.151515e+06  626041.7801  7.151505e+06         17          5   0.572653   \n",
            "4    7.151455e+06  626061.7801  7.151445e+06         23          7   0.566705   \n",
            "..            ...          ...           ...        ...        ...        ...   \n",
            "156  7.151555e+06  626091.7801  7.151545e+06         13         10   0.747454   \n",
            "157  7.151515e+06  626091.7801  7.151505e+06         17         10   0.763998   \n",
            "158  7.151545e+06  626111.7801  7.151535e+06         14         12   0.794405   \n",
            "159  7.151525e+06  626091.7801  7.151515e+06         16         10   0.770821   \n",
            "160  7.151535e+06  626091.7801  7.151525e+06         15         10   0.798023   \n",
            "\n",
            "     ...  NDVI_masked_mean  NDVI_masked_median  Ts_masked_mean  \\\n",
            "0    ...          0.368399                 0.0       10.196880   \n",
            "1    ...          0.332590                 0.0       10.418504   \n",
            "2    ...          0.521320                 1.0       13.739221   \n",
            "3    ...          0.469580                 0.0       12.943464   \n",
            "4    ...          0.426591                 0.0       12.214357   \n",
            "..   ...               ...                 ...             ...   \n",
            "156  ...          0.656298                 1.0       20.603285   \n",
            "157  ...          0.707522                 1.0       22.563297   \n",
            "158  ...          0.728749                 1.0       22.650212   \n",
            "159  ...          0.706823                 1.0       23.103914   \n",
            "160  ...          0.759056                 1.0       24.436592   \n",
            "\n",
            "     Ts_masked_median  Ts_masked_min  Ts_masked_max  CWSI meth_1  CWSI meth_2  \\\n",
            "0            0.000000              0      50.480022     0.000000     0.000000   \n",
            "1            0.000000              0      60.349075     0.022509     0.028126   \n",
            "2           24.017020              0      50.805309     0.050223     0.062756   \n",
            "3            0.000000              0      61.907711     0.075256     0.094037   \n",
            "4            0.000000              0      43.322540     0.098297     0.122828   \n",
            "..                ...            ...            ...          ...          ...   \n",
            "156         29.246927              0      61.486240     0.800280     1.000000   \n",
            "157         29.504606              0      62.052231     0.802078     1.002247   \n",
            "158         29.549534              0      56.163387     0.841495     1.051501   \n",
            "159         29.907471              0      62.490582     0.929850     1.161906   \n",
            "160         29.597704              0      58.087963     0.947924     1.184490   \n",
            "\n",
            "     Tc_Ta_LL    CWSI_1  \n",
            "0    2.256586 -0.337351  \n",
            "1    2.256586 -0.327313  \n",
            "2    2.256586 -0.314955  \n",
            "3    2.256586 -0.303791  \n",
            "4    2.256586 -0.293516  \n",
            "..        ...       ...  \n",
            "156  2.256586  0.019529  \n",
            "157  2.256586  0.020330  \n",
            "158  2.256586  0.037908  \n",
            "159  2.256586  0.077309  \n",
            "160  2.256586  0.085369  \n",
            "\n",
            "[161 rows x 25 columns]\n"
          ]
        }
      ]
    },
    {
      "cell_type": "code",
      "source": [
        "print(data.dtypes)"
      ],
      "metadata": {
        "id": "2RhSn8NJ1UzZ",
        "colab": {
          "base_uri": "https://localhost:8080/"
        },
        "outputId": "ab9a7495-a2e1-4f00-b99e-dbcfd0db5c0a"
      },
      "execution_count": 25,
      "outputs": [
        {
          "output_type": "stream",
          "name": "stdout",
          "text": [
            "wkt_geom               object\n",
            "fid                     int64\n",
            "id                      int64\n",
            "left                  float64\n",
            "top                   float64\n",
            "right                 float64\n",
            "bottom                float64\n",
            "row_index               int64\n",
            "col_index               int64\n",
            "NDVI_mean             float64\n",
            "NDVI_median           float64\n",
            "Ts_unmasked_mean      float64\n",
            "Ts_unmasked_median    float64\n",
            "Ts_unmasked_min       float64\n",
            "Ts_unmasked_max       float64\n",
            "NDVI_masked_mean      float64\n",
            "NDVI_masked_median    float64\n",
            "Ts_masked_mean        float64\n",
            "Ts_masked_median      float64\n",
            "Ts_masked_min           int64\n",
            "Ts_masked_max         float64\n",
            "CWSI meth_1           float64\n",
            "CWSI meth_2           float64\n",
            "Tc_Ta_LL              float64\n",
            "CWSI_1                float64\n",
            "dtype: object\n"
          ]
        }
      ]
    },
    {
      "cell_type": "code",
      "source": [
        "data['id'] = data['id'].astype(str)"
      ],
      "metadata": {
        "id": "pMgB1nZT2nVo"
      },
      "execution_count": 26,
      "outputs": []
    },
    {
      "cell_type": "code",
      "source": [
        "pip install shapely"
      ],
      "metadata": {
        "id": "YW8ckEal2sfo",
        "colab": {
          "base_uri": "https://localhost:8080/"
        },
        "outputId": "fc093092-f071-417e-84c9-0ec9fe04b50a"
      },
      "execution_count": 27,
      "outputs": [
        {
          "output_type": "stream",
          "name": "stdout",
          "text": [
            "Requirement already satisfied: shapely in /usr/local/lib/python3.10/dist-packages (2.0.6)\n",
            "Requirement already satisfied: numpy<3,>=1.14 in /usr/local/lib/python3.10/dist-packages (from shapely) (1.26.4)\n"
          ]
        }
      ]
    },
    {
      "cell_type": "code",
      "source": [
        "from shapely import wkt\n",
        "import geopandas as gpd\n",
        "import pandas as pd\n",
        "\n",
        "# Sample DataFrame\n",
        "#data = pd.DataFrame({\n",
        "#    'wkt_geom': [\n",
        "#        'Polygon ((28.25674625827907605 -25.74938223072..., ...))',\n",
        "#        'Polygon ((28.25683929225131408 -25.74939014405..., ...))',\n",
        "#        # Add other WKT Polygon strings here\n",
        "#    ]\n",
        "#})\n",
        "\n",
        "# Convert WKT string to Shapely Polygon\n",
        "def wkt_to_polygon(wkt_str):\n",
        "    try:\n",
        "        return wkt.loads(wkt_str)\n",
        "    except Exception as e:\n",
        "        print(f\"Error converting WKT to Polygon: {e}\")\n",
        "        return None\n",
        "\n",
        "data['geometry'] = data['wkt_geom'].apply(wkt_to_polygon)\n",
        "\n",
        "# Create a GeoDataFrame\n",
        "gdf = gpd.GeoDataFrame(data, geometry='geometry')\n",
        "\n",
        "# Optionally, set a coordinate reference system (CRS)\n",
        "gdf.crs = 'EPSG:4326'  # or use the CRS of your data\n",
        "\n",
        "# Check the resulting GeoDataFrame\n",
        "print(gdf.head())\n"
      ],
      "metadata": {
        "id": "NUlRDJFu2scc",
        "colab": {
          "base_uri": "https://localhost:8080/"
        },
        "outputId": "70973130-4c75-40b7-a4a6-f096836e0cc5"
      },
      "execution_count": 28,
      "outputs": [
        {
          "output_type": "stream",
          "name": "stdout",
          "text": [
            "                                            wkt_geom  fid   id         left  \\\n",
            "0  Polygon ((28.2566062538695526 -25.749439050594...  159  159  626031.7801   \n",
            "1  Polygon ((28.25721667385957758 -25.74899196683...  316  316  626091.7801   \n",
            "2  Polygon ((28.25662053871013768 -25.74880030945...  152  152  626031.7801   \n",
            "3  Polygon ((28.25661541331590598 -25.74889025806...  153  153  626031.7801   \n",
            "4  Polygon ((28.25680243158734584 -25.74943469031...  213  213  626051.7801   \n",
            "\n",
            "            top        right        bottom  row_index  col_index  NDVI_mean  \\\n",
            "0  7.151455e+06  626041.7801  7.151445e+06         23          5   0.534556   \n",
            "1  7.151505e+06  626101.7801  7.151495e+06         18         11   0.452680   \n",
            "2  7.151525e+06  626041.7801  7.151515e+06         16          5   0.591956   \n",
            "3  7.151515e+06  626041.7801  7.151505e+06         17          5   0.572653   \n",
            "4  7.151455e+06  626061.7801  7.151445e+06         23          7   0.566705   \n",
            "\n",
            "   ...  NDVI_masked_median  Ts_masked_mean  Ts_masked_median  Ts_masked_min  \\\n",
            "0  ...                 0.0       10.196880           0.00000              0   \n",
            "1  ...                 0.0       10.418504           0.00000              0   \n",
            "2  ...                 1.0       13.739221          24.01702              0   \n",
            "3  ...                 0.0       12.943464           0.00000              0   \n",
            "4  ...                 0.0       12.214357           0.00000              0   \n",
            "\n",
            "   Ts_masked_max  CWSI meth_1  CWSI meth_2  Tc_Ta_LL    CWSI_1  \\\n",
            "0      50.480022     0.000000     0.000000  2.256586 -0.337351   \n",
            "1      60.349075     0.022509     0.028126  2.256586 -0.327313   \n",
            "2      50.805309     0.050223     0.062756  2.256586 -0.314955   \n",
            "3      61.907711     0.075256     0.094037  2.256586 -0.303791   \n",
            "4      43.322540     0.098297     0.122828  2.256586 -0.293516   \n",
            "\n",
            "                                            geometry  \n",
            "0  POLYGON ((28.25661 -25.74944, 28.25671 -25.749...  \n",
            "1  POLYGON ((28.25722 -25.74899, 28.25732 -25.748...  \n",
            "2  POLYGON ((28.25662 -25.74880, 28.25672 -25.748...  \n",
            "3  POLYGON ((28.25662 -25.74889, 28.25672 -25.748...  \n",
            "4  POLYGON ((28.25680 -25.74943, 28.25690 -25.749...  \n",
            "\n",
            "[5 rows x 26 columns]\n"
          ]
        }
      ]
    },
    {
      "cell_type": "code",
      "source": [
        "# Once you have the GeoDataFrame with the geometries, you can visualize it as needed:\n",
        "\n",
        "import matplotlib.pyplot as plt\n",
        "\n",
        "# Plot the GeoDataFrame\n",
        "#fig, ax = plt.subplots(figsize=(10, 10))\n",
        "#fig, ax = plt.subplots(figsize=(12, 12))\n",
        "gdf.plot(column='CWSI_1', cmap='coolwarm', edgecolor='k', legend=True)\n",
        "plt.title('Water Stress Levels Method 1')\n",
        "plt.xlabel('Longitude')\n",
        "plt.ylabel('Latitude')\n",
        "plt.show()"
      ],
      "metadata": {
        "id": "yoFwgHb823B1",
        "colab": {
          "base_uri": "https://localhost:8080/",
          "height": 487
        },
        "outputId": "78eddc8d-321d-46fa-f7bc-23cebaabc48e"
      },
      "execution_count": 29,
      "outputs": [
        {
          "output_type": "display_data",
          "data": {
            "text/plain": [
              "<Figure size 640x480 with 2 Axes>"
            ],
            "image/png": "[encoded data removed]"
          },
          "metadata": {}
        }
      ]
    },
    {
      "cell_type": "code",
      "source": [
        "# Visualisation for CWSI method 1 - Tdry as Ta+5 and Twet as the coolest tree's temp (observed directly off therm image)\n",
        "\n",
        "import matplotlib.pyplot as plt\n",
        "\n",
        "# Plot the GeoDataFrame\n",
        "#fig, ax = plt.subplots(figsize=(10, 10))\n",
        "#fig, ax = plt.subplots(figsize=(12, 12))\n",
        "gdf.plot(column='CWSI meth_1', cmap='coolwarm', edgecolor='k', legend=True)\n",
        "plt.title('Water Stress Levels based on Method 2')\n",
        "plt.xlabel('Longitude')\n",
        "plt.ylabel('Latitude')\n",
        "plt.show()"
      ],
      "metadata": {
        "colab": {
          "base_uri": "https://localhost:8080/",
          "height": 487
        },
        "id": "cTjYXyC-DYBt",
        "outputId": "b74b2fd6-9a71-4cb0-8776-e2169e0bed12"
      },
      "execution_count": 30,
      "outputs": [
        {
          "output_type": "display_data",
          "data": {
            "text/plain": [
              "<Figure size 640x480 with 2 Axes>"
            ],
            "image/png": "[encoded data removed]"
          },
          "metadata": {}
        }
      ]
    },
    {
      "cell_type": "code",
      "source": [
        "# Visualisation for CWSI method 2 - Tdry as the warmest tree's temp and Twet as the coolest tree's temp (observed directly off therm image)\n",
        "\n",
        "import matplotlib.pyplot as plt\n",
        "\n",
        "# Plot the GeoDataFrame\n",
        "#fig, ax = plt.subplots(figsize=(10, 10))\n",
        "#fig, ax = plt.subplots(figsize=(12, 12))\n",
        "gdf.plot(column='CWSI meth_2', cmap='coolwarm', edgecolor='k', legend=True)\n",
        "plt.title('Water Stress Levels based on Method 3')\n",
        "plt.xlabel('Longitude')\n",
        "plt.ylabel('Latitude')\n",
        "plt.show()"
      ],
      "metadata": {
        "colab": {
          "base_uri": "https://localhost:8080/",
          "height": 487
        },
        "id": "c4SsOY-aDXuU",
        "outputId": "55579724-13a7-4f93-c20b-7c9ac56eae5f"
      },
      "execution_count": 31,
      "outputs": [
        {
          "output_type": "display_data",
          "data": {
            "text/plain": [
              "<Figure size 640x480 with 2 Axes>"
            ],
            "image/png": "[encoded data removed]"
          },
          "metadata": {}
        }
      ]
    }
  ]
}